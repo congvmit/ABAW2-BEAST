{
 "cells": [
  {
   "cell_type": "code",
   "execution_count": 2,
   "metadata": {},
   "outputs": [],
   "source": [
    "# import sys\n",
    "# sys.path.append('thirdparty/insightface/python-package')"
   ]
  },
  {
   "cell_type": "code",
   "execution_count": 50,
   "metadata": {},
   "outputs": [],
   "source": [
    "from insightface.app import FaceAnalysis\n",
    "import insightface\n",
    "import cv2\n"
   ]
  },
  {
   "cell_type": "code",
   "execution_count": 81,
   "metadata": {},
   "outputs": [],
   "source": [
    "from numpy.linalg import norm as l2norm\n",
    "\n",
    "\n",
    "def normed_embedding(embedding):\n",
    "    return embedding / l2norm(embedding)\n"
   ]
  },
  {
   "cell_type": "code",
   "execution_count": 48,
   "metadata": {},
   "outputs": [
    {
     "name": "stdout",
     "output_type": "stream",
     "text": [
      "Applied providers: ['CPUExecutionProvider'], with options: {'CPUExecutionProvider': {}}\n"
     ]
    }
   ],
   "source": [
    "reg_model = insightface.model_zoo.get_model(\n",
    "    \"ckpts/models/buffalo_l/w600k_r50.onnx\", providers=[\"CUDAExecutionProvider\"]\n",
    ")\n",
    "reg_model.prepare(ctx_id=1)"
   ]
  },
  {
   "cell_type": "code",
   "execution_count": 61,
   "metadata": {},
   "outputs": [
    {
     "data": {
      "text/plain": [
       "'421'"
      ]
     },
     "execution_count": 61,
     "metadata": {},
     "output_type": "execute_result"
    }
   ],
   "source": [
    "from glob import glob\n",
    "\n",
    "all_folders = glob(\"/mnt/DATA2/congvm/Affwild2/cropped_aligned/*\")\n",
    "all_folders = [f.split(\"/\")[-1] for f in all_folders]\n",
    "all_folders[-1]\n"
   ]
  },
  {
   "cell_type": "code",
   "execution_count": 82,
   "metadata": {},
   "outputs": [],
   "source": [
    "feats = []\n",
    "for f in all_folders[:200]:\n",
    "    path = glob(f\"/mnt/DATA2/congvm/Affwild2/cropped_aligned/{f}/*\")[0]\n",
    "    img_arr = cv2.imread(path)\n",
    "    img_arr = cv2.cvtColor(img_arr, cv2.COLOR_BGR2RGB)\n",
    "    features = normed_embedding(reg_model.get_feat(img_arr).flatten())\n",
    "    feats.append(features)\n"
   ]
  },
  {
   "cell_type": "code",
   "execution_count": 11,
   "metadata": {},
   "outputs": [],
   "source": [
    "from insightface.data import get_image as ins_get_image\n",
    "import matplotlib.pyplot as plt\n",
    "\n",
    "app = FaceAnalysis(\n",
    "    root=\"ckpts\",\n",
    "    allowed_modules=[\"recognition\"],\n",
    "    providers=[\"CUDAExecutionProvider\"],\n",
    ")\n",
    "app.prepare(ctx_id=0, det_size=(640, 640))\n",
    "\n",
    "img = ins_get_image(\"t1\")\n",
    "faces = app.get(img)\n",
    "rimg = app.draw_on(img, faces)\n",
    "plt.imshow(rimg[..., ::-1])\n",
    "\n",
    "normed_feats = []\n",
    "feats = []\n",
    "\n",
    "for face in faces:\n",
    "    normed_feats.append(face.normed_embedding)\n",
    "    feats.append(face.embedding)\n",
    "\n",
    "print(feats[0].shape)\n",
    "print(normed_feats[0].shape)\n"
   ]
  },
  {
   "cell_type": "code",
   "execution_count": null,
   "metadata": {},
   "outputs": [],
   "source": []
  },
  {
   "cell_type": "code",
   "execution_count": 83,
   "metadata": {},
   "outputs": [],
   "source": [
    "from sklearn.manifold import TSNE\n",
    "import numpy as np\n",
    "import matplotlib.pyplot as plt"
   ]
  },
  {
   "cell_type": "code",
   "execution_count": 84,
   "metadata": {},
   "outputs": [
    {
     "name": "stdout",
     "output_type": "stream",
     "text": [
      "(200, 512)\n"
     ]
    }
   ],
   "source": [
    "# normed_x = np.stack(normed_feats)\n",
    "feats_x = np.stack(feats)\n",
    "\n",
    "# print(normed_x.shape)\n",
    "print(feats_x.shape)\n"
   ]
  },
  {
   "cell_type": "code",
   "execution_count": 85,
   "metadata": {},
   "outputs": [
    {
     "data": {
      "text/plain": [
       "(200, 512)"
      ]
     },
     "execution_count": 85,
     "metadata": {},
     "output_type": "execute_result"
    }
   ],
   "source": [
    "feats_x.shape"
   ]
  },
  {
   "cell_type": "code",
   "execution_count": 86,
   "metadata": {},
   "outputs": [],
   "source": [
    "# normed_X_embedded = TSNE(n_components=2, init=\"random\").fit_transform(normed_x)\n",
    "feats_X_embedded = TSNE(n_components=2, init=\"random\").fit_transform(feats_x)\n"
   ]
  },
  {
   "cell_type": "code",
   "execution_count": 87,
   "metadata": {},
   "outputs": [
    {
     "data": {
      "text/plain": [
       "<matplotlib.collections.PathCollection at 0x7efeaeb5ca58>"
      ]
     },
     "execution_count": 87,
     "metadata": {},
     "output_type": "execute_result"
    },
    {
     "data": {
      "image/png": "[encoded data removed]",
      "image/svg+xml": "<?xml version=\"1.0\" encoding=\"utf-8\" standalone=\"no\"?>\n<!DOCTYPE svg PUBLIC \"-//W3C//DTD SVG 1.1//EN\"\n  \"http://www.w3.org/Graphics/SVG/1.1/DTD/svg11.dtd\">\n<!-- Created with matplotlib (https://matplotlib.org/) -->\n<svg height=\"252.018125pt\" version=\"1.1\" viewBox=\"0 0 380.804688 252.018125\" width=\"380.804688pt\" xmlns=\"http://www.w3.org/2000/svg\" xmlns:xlink=\"http://www.w3.org/1999/xlink\">\n <defs>\n  <style type=\"text/css\">\n*{stroke-linecap:butt;stroke-linejoin:round;}\n  </style>\n </defs>\n <g id=\"figure_1\">\n  <g id=\"patch_1\">\n   <path d=\"M 0 252.018125 \nL 380.804688 252.018125 \nL 380.804688 0 \nL 0 0 \nz\n\" style=\"fill:none;\"/>\n  </g>\n  <g id=\"axes_1\">\n   <g id=\"patch_2\">\n    <path d=\"M 35.304688 228.14 \nL 370.104688 228.14 \nL 370.104688 10.7 \nL 35.304688 10.7 \nz\n\" style=\"fill:#ffffff;\"/>\n   </g>\n   <g id=\"PathCollection_1\">\n    <defs>\n     <path d=\"M 0 3 \nC 0.795609 3 1.55874 2.683901 2.12132 2.12132 \nC 2.683901 1.55874 3 0.795609 3 0 \nC 3 -0.795609 2.683901 -1.55874 2.12132 -2.12132 \nC 1.55874 -2.683901 0.795609 -3 0 -3 \nC -0.795609 -3 -1.55874 -2.683901 -2.12132 -2.12132 \nC -2.683901 -1.55874 -3 -0.795609 -3 0 \nC -3 0.795609 -2.683901 1.55874 -2.12132 2.12132 \nC -1.55874 2.683901 -0.795609 3 0 3 \nz\n\" id=\"m100468a810\" style=\"stroke:#1f77b4;\"/>\n    </defs>\n    <g clip-path=\"url(#p1fa1335cc6)\">\n     <use style=\"fill:#1f77b4;stroke:#1f77b4;\" x=\"115.053871\" xlink:href=\"#m100468a810\" y=\"62.39761\"/>\n     <use style=\"fill:#1f77b4;stroke:#1f77b4;\" x=\"137.98204\" xlink:href=\"#m100468a810\" y=\"91.815541\"/>\n     <use style=\"fill:#1f77b4;stroke:#1f77b4;\" x=\"163.083105\" xlink:href=\"#m100468a810\" y=\"136.583462\"/>\n     <use style=\"fill:#1f77b4;stroke:#1f77b4;\" x=\"261.065816\" xlink:href=\"#m100468a810\" y=\"29.053924\"/>\n     <use style=\"fill:#1f77b4;stroke:#1f77b4;\" x=\"186.555637\" xlink:href=\"#m100468a810\" y=\"26.404544\"/>\n     <use style=\"fill:#1f77b4;stroke:#1f77b4;\" x=\"147.007473\" xlink:href=\"#m100468a810\" y=\"75.68068\"/>\n     <use style=\"fill:#1f77b4;stroke:#1f77b4;\" x=\"305.877472\" xlink:href=\"#m100468a810\" y=\"45.221218\"/>\n     <use style=\"fill:#1f77b4;stroke:#1f77b4;\" x=\"172.014459\" xlink:href=\"#m100468a810\" y=\"213.787816\"/>\n     <use style=\"fill:#1f77b4;stroke:#1f77b4;\" x=\"298.678167\" xlink:href=\"#m100468a810\" y=\"64.731712\"/>\n     <use style=\"fill:#1f77b4;stroke:#1f77b4;\" x=\"78.994872\" xlink:href=\"#m100468a810\" y=\"129.983426\"/>\n     <use style=\"fill:#1f77b4;stroke:#1f77b4;\" x=\"221.030528\" xlink:href=\"#m100468a810\" y=\"57.811941\"/>\n     <use style=\"fill:#1f77b4;stroke:#1f77b4;\" x=\"162.65212\" xlink:href=\"#m100468a810\" y=\"101.984994\"/>\n     <use style=\"fill:#1f77b4;stroke:#1f77b4;\" x=\"287.343487\" xlink:href=\"#m100468a810\" y=\"138.398997\"/>\n     <use style=\"fill:#1f77b4;stroke:#1f77b4;\" x=\"130.454441\" xlink:href=\"#m100468a810\" y=\"100.516835\"/>\n     <use style=\"fill:#1f77b4;stroke:#1f77b4;\" x=\"334.731499\" xlink:href=\"#m100468a810\" y=\"119.02769\"/>\n     <use style=\"fill:#1f77b4;stroke:#1f77b4;\" x=\"341.155779\" xlink:href=\"#m100468a810\" y=\"112.072624\"/>\n     <use style=\"fill:#1f77b4;stroke:#1f77b4;\" x=\"129.166674\" xlink:href=\"#m100468a810\" y=\"116.572163\"/>\n     <use style=\"fill:#1f77b4;stroke:#1f77b4;\" x=\"331.89958\" xlink:href=\"#m100468a810\" y=\"186.159332\"/>\n     <use style=\"fill:#1f77b4;stroke:#1f77b4;\" x=\"197.565995\" xlink:href=\"#m100468a810\" y=\"129.023463\"/>\n     <use style=\"fill:#1f77b4;stroke:#1f77b4;\" x=\"307.312559\" xlink:href=\"#m100468a810\" y=\"95.500363\"/>\n     <use style=\"fill:#1f77b4;stroke:#1f77b4;\" x=\"339.611174\" xlink:href=\"#m100468a810\" y=\"139.885034\"/>\n     <use style=\"fill:#1f77b4;stroke:#1f77b4;\" x=\"175.602084\" xlink:href=\"#m100468a810\" y=\"81.558428\"/>\n     <use style=\"fill:#1f77b4;stroke:#1f77b4;\" x=\"174.513425\" xlink:href=\"#m100468a810\" y=\"218.07673\"/>\n     <use style=\"fill:#1f77b4;stroke:#1f77b4;\" x=\"114.046989\" xlink:href=\"#m100468a810\" y=\"109.003787\"/>\n     <use style=\"fill:#1f77b4;stroke:#1f77b4;\" x=\"250.803801\" xlink:href=\"#m100468a810\" y=\"98.364062\"/>\n     <use style=\"fill:#1f77b4;stroke:#1f77b4;\" x=\"265.294131\" xlink:href=\"#m100468a810\" y=\"59.41376\"/>\n     <use style=\"fill:#1f77b4;stroke:#1f77b4;\" x=\"187.259512\" xlink:href=\"#m100468a810\" y=\"99.138152\"/>\n     <use style=\"fill:#1f77b4;stroke:#1f77b4;\" x=\"70.332112\" xlink:href=\"#m100468a810\" y=\"116.785779\"/>\n     <use style=\"fill:#1f77b4;stroke:#1f77b4;\" x=\"221.729704\" xlink:href=\"#m100468a810\" y=\"124.568927\"/>\n     <use style=\"fill:#1f77b4;stroke:#1f77b4;\" x=\"250.548987\" xlink:href=\"#m100468a810\" y=\"135.382592\"/>\n     <use style=\"fill:#1f77b4;stroke:#1f77b4;\" x=\"176.563074\" xlink:href=\"#m100468a810\" y=\"64.911194\"/>\n     <use style=\"fill:#1f77b4;stroke:#1f77b4;\" x=\"253.935093\" xlink:href=\"#m100468a810\" y=\"103.241186\"/>\n     <use style=\"fill:#1f77b4;stroke:#1f77b4;\" x=\"158.468091\" xlink:href=\"#m100468a810\" y=\"44.594055\"/>\n     <use style=\"fill:#1f77b4;stroke:#1f77b4;\" x=\"308.40005\" xlink:href=\"#m100468a810\" y=\"96.154798\"/>\n     <use style=\"fill:#1f77b4;stroke:#1f77b4;\" x=\"84.01183\" xlink:href=\"#m100468a810\" y=\"107.649031\"/>\n     <use style=\"fill:#1f77b4;stroke:#1f77b4;\" x=\"280.142442\" xlink:href=\"#m100468a810\" y=\"91.125044\"/>\n     <use style=\"fill:#1f77b4;stroke:#1f77b4;\" x=\"205.125909\" xlink:href=\"#m100468a810\" y=\"68.529312\"/>\n     <use style=\"fill:#1f77b4;stroke:#1f77b4;\" x=\"239.799033\" xlink:href=\"#m100468a810\" y=\"94.110718\"/>\n     <use style=\"fill:#1f77b4;stroke:#1f77b4;\" x=\"286.434129\" xlink:href=\"#m100468a810\" y=\"107.864668\"/>\n     <use style=\"fill:#1f77b4;stroke:#1f77b4;\" x=\"138.633212\" xlink:href=\"#m100468a810\" y=\"127.677403\"/>\n     <use style=\"fill:#1f77b4;stroke:#1f77b4;\" x=\"268.617054\" xlink:href=\"#m100468a810\" y=\"62.560852\"/>\n     <use style=\"fill:#1f77b4;stroke:#1f77b4;\" x=\"299.401352\" xlink:href=\"#m100468a810\" y=\"186.272418\"/>\n     <use style=\"fill:#1f77b4;stroke:#1f77b4;\" x=\"278.618788\" xlink:href=\"#m100468a810\" y=\"138.265601\"/>\n     <use style=\"fill:#1f77b4;stroke:#1f77b4;\" x=\"248.938601\" xlink:href=\"#m100468a810\" y=\"128.745064\"/>\n     <use style=\"fill:#1f77b4;stroke:#1f77b4;\" x=\"152.162995\" xlink:href=\"#m100468a810\" y=\"77.380337\"/>\n     <use style=\"fill:#1f77b4;stroke:#1f77b4;\" x=\"321.554759\" xlink:href=\"#m100468a810\" y=\"128.059302\"/>\n     <use style=\"fill:#1f77b4;stroke:#1f77b4;\" x=\"51.450592\" xlink:href=\"#m100468a810\" y=\"94.90249\"/>\n     <use style=\"fill:#1f77b4;stroke:#1f77b4;\" x=\"353.682458\" xlink:href=\"#m100468a810\" y=\"122.965952\"/>\n     <use style=\"fill:#1f77b4;stroke:#1f77b4;\" x=\"183.436558\" xlink:href=\"#m100468a810\" y=\"142.169904\"/>\n     <use style=\"fill:#1f77b4;stroke:#1f77b4;\" x=\"185.366009\" xlink:href=\"#m100468a810\" y=\"40.34159\"/>\n     <use style=\"fill:#1f77b4;stroke:#1f77b4;\" x=\"248.141465\" xlink:href=\"#m100468a810\" y=\"153.081053\"/>\n     <use style=\"fill:#1f77b4;stroke:#1f77b4;\" x=\"289.907574\" xlink:href=\"#m100468a810\" y=\"158.441579\"/>\n     <use style=\"fill:#1f77b4;stroke:#1f77b4;\" x=\"221.515167\" xlink:href=\"#m100468a810\" y=\"73.857842\"/>\n     <use style=\"fill:#1f77b4;stroke:#1f77b4;\" x=\"173.699197\" xlink:href=\"#m100468a810\" y=\"160.979887\"/>\n     <use style=\"fill:#1f77b4;stroke:#1f77b4;\" x=\"200.489026\" xlink:href=\"#m100468a810\" y=\"154.080555\"/>\n     <use style=\"fill:#1f77b4;stroke:#1f77b4;\" x=\"341.760789\" xlink:href=\"#m100468a810\" y=\"165.401786\"/>\n     <use style=\"fill:#1f77b4;stroke:#1f77b4;\" x=\"177.369377\" xlink:href=\"#m100468a810\" y=\"134.524134\"/>\n     <use style=\"fill:#1f77b4;stroke:#1f77b4;\" x=\"146.624766\" xlink:href=\"#m100468a810\" y=\"168.370058\"/>\n     <use style=\"fill:#1f77b4;stroke:#1f77b4;\" x=\"197.386522\" xlink:href=\"#m100468a810\" y=\"97.418286\"/>\n     <use style=\"fill:#1f77b4;stroke:#1f77b4;\" x=\"224.788229\" xlink:href=\"#m100468a810\" y=\"175.727862\"/>\n     <use style=\"fill:#1f77b4;stroke:#1f77b4;\" x=\"243.389415\" xlink:href=\"#m100468a810\" y=\"171.878778\"/>\n     <use style=\"fill:#1f77b4;stroke:#1f77b4;\" x=\"137.399617\" xlink:href=\"#m100468a810\" y=\"190.060406\"/>\n     <use style=\"fill:#1f77b4;stroke:#1f77b4;\" x=\"253.261241\" xlink:href=\"#m100468a810\" y=\"154.562483\"/>\n     <use style=\"fill:#1f77b4;stroke:#1f77b4;\" x=\"89.031886\" xlink:href=\"#m100468a810\" y=\"99.028082\"/>\n     <use style=\"fill:#1f77b4;stroke:#1f77b4;\" x=\"132.204609\" xlink:href=\"#m100468a810\" y=\"63.988878\"/>\n     <use style=\"fill:#1f77b4;stroke:#1f77b4;\" x=\"197.173115\" xlink:href=\"#m100468a810\" y=\"128.840282\"/>\n     <use style=\"fill:#1f77b4;stroke:#1f77b4;\" x=\"224.949595\" xlink:href=\"#m100468a810\" y=\"196.074547\"/>\n     <use style=\"fill:#1f77b4;stroke:#1f77b4;\" x=\"166.867693\" xlink:href=\"#m100468a810\" y=\"81.061957\"/>\n     <use style=\"fill:#1f77b4;stroke:#1f77b4;\" x=\"169.201925\" xlink:href=\"#m100468a810\" y=\"191.890963\"/>\n     <use style=\"fill:#1f77b4;stroke:#1f77b4;\" x=\"240.631725\" xlink:href=\"#m100468a810\" y=\"211.202567\"/>\n     <use style=\"fill:#1f77b4;stroke:#1f77b4;\" x=\"165.821984\" xlink:href=\"#m100468a810\" y=\"160.714231\"/>\n     <use style=\"fill:#1f77b4;stroke:#1f77b4;\" x=\"113.011004\" xlink:href=\"#m100468a810\" y=\"64.105508\"/>\n     <use style=\"fill:#1f77b4;stroke:#1f77b4;\" x=\"107.85314\" xlink:href=\"#m100468a810\" y=\"83.227253\"/>\n     <use style=\"fill:#1f77b4;stroke:#1f77b4;\" x=\"248.148082\" xlink:href=\"#m100468a810\" y=\"122.743275\"/>\n     <use style=\"fill:#1f77b4;stroke:#1f77b4;\" x=\"148.29032\" xlink:href=\"#m100468a810\" y=\"101.107547\"/>\n     <use style=\"fill:#1f77b4;stroke:#1f77b4;\" x=\"117.248464\" xlink:href=\"#m100468a810\" y=\"139.454332\"/>\n     <use style=\"fill:#1f77b4;stroke:#1f77b4;\" x=\"50.619598\" xlink:href=\"#m100468a810\" y=\"96.480865\"/>\n     <use style=\"fill:#1f77b4;stroke:#1f77b4;\" x=\"149.487276\" xlink:href=\"#m100468a810\" y=\"137.287294\"/>\n     <use style=\"fill:#1f77b4;stroke:#1f77b4;\" x=\"298.685198\" xlink:href=\"#m100468a810\" y=\"87.382173\"/>\n     <use style=\"fill:#1f77b4;stroke:#1f77b4;\" x=\"87.962226\" xlink:href=\"#m100468a810\" y=\"169.836666\"/>\n     <use style=\"fill:#1f77b4;stroke:#1f77b4;\" x=\"248.208014\" xlink:href=\"#m100468a810\" y=\"76.604551\"/>\n     <use style=\"fill:#1f77b4;stroke:#1f77b4;\" x=\"81.084776\" xlink:href=\"#m100468a810\" y=\"104.836348\"/>\n     <use style=\"fill:#1f77b4;stroke:#1f77b4;\" x=\"174.759941\" xlink:href=\"#m100468a810\" y=\"130.182999\"/>\n     <use style=\"fill:#1f77b4;stroke:#1f77b4;\" x=\"84.497192\" xlink:href=\"#m100468a810\" y=\"165.766792\"/>\n     <use style=\"fill:#1f77b4;stroke:#1f77b4;\" x=\"291.305208\" xlink:href=\"#m100468a810\" y=\"159.700665\"/>\n     <use style=\"fill:#1f77b4;stroke:#1f77b4;\" x=\"238.494569\" xlink:href=\"#m100468a810\" y=\"92.015947\"/>\n     <use style=\"fill:#1f77b4;stroke:#1f77b4;\" x=\"278.141594\" xlink:href=\"#m100468a810\" y=\"138.930316\"/>\n     <use style=\"fill:#1f77b4;stroke:#1f77b4;\" x=\"182.941495\" xlink:href=\"#m100468a810\" y=\"115.141026\"/>\n     <use style=\"fill:#1f77b4;stroke:#1f77b4;\" x=\"112.892366\" xlink:href=\"#m100468a810\" y=\"144.072664\"/>\n     <use style=\"fill:#1f77b4;stroke:#1f77b4;\" x=\"119.554118\" xlink:href=\"#m100468a810\" y=\"101.961588\"/>\n     <use style=\"fill:#1f77b4;stroke:#1f77b4;\" x=\"209.049464\" xlink:href=\"#m100468a810\" y=\"175.281809\"/>\n     <use style=\"fill:#1f77b4;stroke:#1f77b4;\" x=\"336.489537\" xlink:href=\"#m100468a810\" y=\"120.283214\"/>\n     <use style=\"fill:#1f77b4;stroke:#1f77b4;\" x=\"159.016284\" xlink:href=\"#m100468a810\" y=\"148.447456\"/>\n     <use style=\"fill:#1f77b4;stroke:#1f77b4;\" x=\"310.614903\" xlink:href=\"#m100468a810\" y=\"72.948832\"/>\n     <use style=\"fill:#1f77b4;stroke:#1f77b4;\" x=\"288.136991\" xlink:href=\"#m100468a810\" y=\"109.559448\"/>\n     <use style=\"fill:#1f77b4;stroke:#1f77b4;\" x=\"68.444595\" xlink:href=\"#m100468a810\" y=\"72.447016\"/>\n     <use style=\"fill:#1f77b4;stroke:#1f77b4;\" x=\"153.862229\" xlink:href=\"#m100468a810\" y=\"34.684116\"/>\n     <use style=\"fill:#1f77b4;stroke:#1f77b4;\" x=\"198.712815\" xlink:href=\"#m100468a810\" y=\"215.489782\"/>\n     <use style=\"fill:#1f77b4;stroke:#1f77b4;\" x=\"136.237293\" xlink:href=\"#m100468a810\" y=\"154.348665\"/>\n     <use style=\"fill:#1f77b4;stroke:#1f77b4;\" x=\"183.327157\" xlink:href=\"#m100468a810\" y=\"77.450656\"/>\n     <use style=\"fill:#1f77b4;stroke:#1f77b4;\" x=\"89.739928\" xlink:href=\"#m100468a810\" y=\"162.730661\"/>\n     <use style=\"fill:#1f77b4;stroke:#1f77b4;\" x=\"217.326358\" xlink:href=\"#m100468a810\" y=\"159.480797\"/>\n     <use style=\"fill:#1f77b4;stroke:#1f77b4;\" x=\"227.184694\" xlink:href=\"#m100468a810\" y=\"47.665638\"/>\n     <use style=\"fill:#1f77b4;stroke:#1f77b4;\" x=\"172.929335\" xlink:href=\"#m100468a810\" y=\"209.214364\"/>\n     <use style=\"fill:#1f77b4;stroke:#1f77b4;\" x=\"325.698947\" xlink:href=\"#m100468a810\" y=\"111.405375\"/>\n     <use style=\"fill:#1f77b4;stroke:#1f77b4;\" x=\"258.904377\" xlink:href=\"#m100468a810\" y=\"54.092297\"/>\n     <use style=\"fill:#1f77b4;stroke:#1f77b4;\" x=\"295.350359\" xlink:href=\"#m100468a810\" y=\"56.885366\"/>\n     <use style=\"fill:#1f77b4;stroke:#1f77b4;\" x=\"236.517041\" xlink:href=\"#m100468a810\" y=\"45.722794\"/>\n     <use style=\"fill:#1f77b4;stroke:#1f77b4;\" x=\"145.734309\" xlink:href=\"#m100468a810\" y=\"137.906726\"/>\n     <use style=\"fill:#1f77b4;stroke:#1f77b4;\" x=\"301.284133\" xlink:href=\"#m100468a810\" y=\"48.546571\"/>\n     <use style=\"fill:#1f77b4;stroke:#1f77b4;\" x=\"185.531491\" xlink:href=\"#m100468a810\" y=\"34.555957\"/>\n     <use style=\"fill:#1f77b4;stroke:#1f77b4;\" x=\"255.202183\" xlink:href=\"#m100468a810\" y=\"107.782337\"/>\n     <use style=\"fill:#1f77b4;stroke:#1f77b4;\" x=\"217.983845\" xlink:href=\"#m100468a810\" y=\"70.678221\"/>\n     <use style=\"fill:#1f77b4;stroke:#1f77b4;\" x=\"334.352513\" xlink:href=\"#m100468a810\" y=\"66.743628\"/>\n     <use style=\"fill:#1f77b4;stroke:#1f77b4;\" x=\"151.71772\" xlink:href=\"#m100468a810\" y=\"20.678561\"/>\n     <use style=\"fill:#1f77b4;stroke:#1f77b4;\" x=\"187.190642\" xlink:href=\"#m100468a810\" y=\"198.356709\"/>\n     <use style=\"fill:#1f77b4;stroke:#1f77b4;\" x=\"221.544099\" xlink:href=\"#m100468a810\" y=\"117.60297\"/>\n     <use style=\"fill:#1f77b4;stroke:#1f77b4;\" x=\"214.80363\" xlink:href=\"#m100468a810\" y=\"46.087119\"/>\n     <use style=\"fill:#1f77b4;stroke:#1f77b4;\" x=\"148.119502\" xlink:href=\"#m100468a810\" y=\"192.483127\"/>\n     <use style=\"fill:#1f77b4;stroke:#1f77b4;\" x=\"105.68586\" xlink:href=\"#m100468a810\" y=\"89.17846\"/>\n     <use style=\"fill:#1f77b4;stroke:#1f77b4;\" x=\"273.612084\" xlink:href=\"#m100468a810\" y=\"190.32037\"/>\n     <use style=\"fill:#1f77b4;stroke:#1f77b4;\" x=\"202.479693\" xlink:href=\"#m100468a810\" y=\"111.367122\"/>\n     <use style=\"fill:#1f77b4;stroke:#1f77b4;\" x=\"66.984883\" xlink:href=\"#m100468a810\" y=\"73.144996\"/>\n     <use style=\"fill:#1f77b4;stroke:#1f77b4;\" x=\"270.771682\" xlink:href=\"#m100468a810\" y=\"173.808243\"/>\n     <use style=\"fill:#1f77b4;stroke:#1f77b4;\" x=\"167.155044\" xlink:href=\"#m100468a810\" y=\"90.748295\"/>\n     <use style=\"fill:#1f77b4;stroke:#1f77b4;\" x=\"152.155403\" xlink:href=\"#m100468a810\" y=\"25.696295\"/>\n     <use style=\"fill:#1f77b4;stroke:#1f77b4;\" x=\"103.887764\" xlink:href=\"#m100468a810\" y=\"52.648287\"/>\n     <use style=\"fill:#1f77b4;stroke:#1f77b4;\" x=\"341.756146\" xlink:href=\"#m100468a810\" y=\"145.206949\"/>\n     <use style=\"fill:#1f77b4;stroke:#1f77b4;\" x=\"115.751257\" xlink:href=\"#m100468a810\" y=\"166.230811\"/>\n     <use style=\"fill:#1f77b4;stroke:#1f77b4;\" x=\"132.720522\" xlink:href=\"#m100468a810\" y=\"181.968728\"/>\n     <use style=\"fill:#1f77b4;stroke:#1f77b4;\" x=\"328.883558\" xlink:href=\"#m100468a810\" y=\"78.885319\"/>\n     <use style=\"fill:#1f77b4;stroke:#1f77b4;\" x=\"261.518412\" xlink:href=\"#m100468a810\" y=\"28.723752\"/>\n     <use style=\"fill:#1f77b4;stroke:#1f77b4;\" x=\"225.831846\" xlink:href=\"#m100468a810\" y=\"23.03702\"/>\n     <use style=\"fill:#1f77b4;stroke:#1f77b4;\" x=\"277.341882\" xlink:href=\"#m100468a810\" y=\"75.682973\"/>\n     <use style=\"fill:#1f77b4;stroke:#1f77b4;\" x=\"91.183477\" xlink:href=\"#m100468a810\" y=\"152.633084\"/>\n     <use style=\"fill:#1f77b4;stroke:#1f77b4;\" x=\"191.408883\" xlink:href=\"#m100468a810\" y=\"56.434188\"/>\n     <use style=\"fill:#1f77b4;stroke:#1f77b4;\" x=\"261.679167\" xlink:href=\"#m100468a810\" y=\"198.518928\"/>\n     <use style=\"fill:#1f77b4;stroke:#1f77b4;\" x=\"186.417768\" xlink:href=\"#m100468a810\" y=\"115.577517\"/>\n     <use style=\"fill:#1f77b4;stroke:#1f77b4;\" x=\"354.789777\" xlink:href=\"#m100468a810\" y=\"146.576657\"/>\n     <use style=\"fill:#1f77b4;stroke:#1f77b4;\" x=\"80.743047\" xlink:href=\"#m100468a810\" y=\"169.239883\"/>\n     <use style=\"fill:#1f77b4;stroke:#1f77b4;\" x=\"219.55285\" xlink:href=\"#m100468a810\" y=\"139.602419\"/>\n     <use style=\"fill:#1f77b4;stroke:#1f77b4;\" x=\"94.701777\" xlink:href=\"#m100468a810\" y=\"169.644557\"/>\n     <use style=\"fill:#1f77b4;stroke:#1f77b4;\" x=\"244.033001\" xlink:href=\"#m100468a810\" y=\"200.137\"/>\n     <use style=\"fill:#1f77b4;stroke:#1f77b4;\" x=\"329.47083\" xlink:href=\"#m100468a810\" y=\"80.414004\"/>\n     <use style=\"fill:#1f77b4;stroke:#1f77b4;\" x=\"224.791186\" xlink:href=\"#m100468a810\" y=\"218.161439\"/>\n     <use style=\"fill:#1f77b4;stroke:#1f77b4;\" x=\"54.182403\" xlink:href=\"#m100468a810\" y=\"139.914918\"/>\n     <use style=\"fill:#1f77b4;stroke:#1f77b4;\" x=\"205.975862\" xlink:href=\"#m100468a810\" y=\"43.476011\"/>\n     <use style=\"fill:#1f77b4;stroke:#1f77b4;\" x=\"91.192537\" xlink:href=\"#m100468a810\" y=\"92.481275\"/>\n     <use style=\"fill:#1f77b4;stroke:#1f77b4;\" x=\"130.364773\" xlink:href=\"#m100468a810\" y=\"76.073192\"/>\n     <use style=\"fill:#1f77b4;stroke:#1f77b4;\" x=\"136.317943\" xlink:href=\"#m100468a810\" y=\"154.272657\"/>\n     <use style=\"fill:#1f77b4;stroke:#1f77b4;\" x=\"135.782181\" xlink:href=\"#m100468a810\" y=\"122.158406\"/>\n     <use style=\"fill:#1f77b4;stroke:#1f77b4;\" x=\"182.54614\" xlink:href=\"#m100468a810\" y=\"182.389644\"/>\n     <use style=\"fill:#1f77b4;stroke:#1f77b4;\" x=\"107.716115\" xlink:href=\"#m100468a810\" y=\"127.482294\"/>\n     <use style=\"fill:#1f77b4;stroke:#1f77b4;\" x=\"189.323777\" xlink:href=\"#m100468a810\" y=\"145.930311\"/>\n     <use style=\"fill:#1f77b4;stroke:#1f77b4;\" x=\"258.344539\" xlink:href=\"#m100468a810\" y=\"82.808626\"/>\n     <use style=\"fill:#1f77b4;stroke:#1f77b4;\" x=\"257.566909\" xlink:href=\"#m100468a810\" y=\"197.093618\"/>\n     <use style=\"fill:#1f77b4;stroke:#1f77b4;\" x=\"129.956518\" xlink:href=\"#m100468a810\" y=\"101.760501\"/>\n     <use style=\"fill:#1f77b4;stroke:#1f77b4;\" x=\"163.903047\" xlink:href=\"#m100468a810\" y=\"211.965394\"/>\n     <use style=\"fill:#1f77b4;stroke:#1f77b4;\" x=\"288.175952\" xlink:href=\"#m100468a810\" y=\"170.480593\"/>\n     <use style=\"fill:#1f77b4;stroke:#1f77b4;\" x=\"279.455922\" xlink:href=\"#m100468a810\" y=\"167.153682\"/>\n     <use style=\"fill:#1f77b4;stroke:#1f77b4;\" x=\"127.406402\" xlink:href=\"#m100468a810\" y=\"199.608436\"/>\n     <use style=\"fill:#1f77b4;stroke:#1f77b4;\" x=\"183.66641\" xlink:href=\"#m100468a810\" y=\"62.055109\"/>\n     <use style=\"fill:#1f77b4;stroke:#1f77b4;\" x=\"306.30157\" xlink:href=\"#m100468a810\" y=\"151.35465\"/>\n     <use style=\"fill:#1f77b4;stroke:#1f77b4;\" x=\"209.658753\" xlink:href=\"#m100468a810\" y=\"103.912622\"/>\n     <use style=\"fill:#1f77b4;stroke:#1f77b4;\" x=\"165.544567\" xlink:href=\"#m100468a810\" y=\"60.23791\"/>\n     <use style=\"fill:#1f77b4;stroke:#1f77b4;\" x=\"337.927898\" xlink:href=\"#m100468a810\" y=\"153.128794\"/>\n     <use style=\"fill:#1f77b4;stroke:#1f77b4;\" x=\"251.279628\" xlink:href=\"#m100468a810\" y=\"78.565051\"/>\n     <use style=\"fill:#1f77b4;stroke:#1f77b4;\" x=\"297.313167\" xlink:href=\"#m100468a810\" y=\"122.432082\"/>\n     <use style=\"fill:#1f77b4;stroke:#1f77b4;\" x=\"100.400915\" xlink:href=\"#m100468a810\" y=\"126.003605\"/>\n     <use style=\"fill:#1f77b4;stroke:#1f77b4;\" x=\"281.415606\" xlink:href=\"#m100468a810\" y=\"172.673326\"/>\n     <use style=\"fill:#1f77b4;stroke:#1f77b4;\" x=\"274.376037\" xlink:href=\"#m100468a810\" y=\"165.774968\"/>\n     <use style=\"fill:#1f77b4;stroke:#1f77b4;\" x=\"82.523641\" xlink:href=\"#m100468a810\" y=\"65.815683\"/>\n     <use style=\"fill:#1f77b4;stroke:#1f77b4;\" x=\"313.601441\" xlink:href=\"#m100468a810\" y=\"169.318292\"/>\n     <use style=\"fill:#1f77b4;stroke:#1f77b4;\" x=\"233.304637\" xlink:href=\"#m100468a810\" y=\"155.167415\"/>\n     <use style=\"fill:#1f77b4;stroke:#1f77b4;\" x=\"106.123156\" xlink:href=\"#m100468a810\" y=\"41.84565\"/>\n     <use style=\"fill:#1f77b4;stroke:#1f77b4;\" x=\"273.018789\" xlink:href=\"#m100468a810\" y=\"206.444831\"/>\n     <use style=\"fill:#1f77b4;stroke:#1f77b4;\" x=\"285.764184\" xlink:href=\"#m100468a810\" y=\"174.937405\"/>\n     <use style=\"fill:#1f77b4;stroke:#1f77b4;\" x=\"166.652277\" xlink:href=\"#m100468a810\" y=\"175.525504\"/>\n     <use style=\"fill:#1f77b4;stroke:#1f77b4;\" x=\"219.699878\" xlink:href=\"#m100468a810\" y=\"80.931856\"/>\n     <use style=\"fill:#1f77b4;stroke:#1f77b4;\" x=\"216.048216\" xlink:href=\"#m100468a810\" y=\"86.841188\"/>\n     <use style=\"fill:#1f77b4;stroke:#1f77b4;\" x=\"199.645128\" xlink:href=\"#m100468a810\" y=\"176.154983\"/>\n     <use style=\"fill:#1f77b4;stroke:#1f77b4;\" x=\"222.619359\" xlink:href=\"#m100468a810\" y=\"116.488033\"/>\n     <use style=\"fill:#1f77b4;stroke:#1f77b4;\" x=\"197.562752\" xlink:href=\"#m100468a810\" y=\"89.931622\"/>\n     <use style=\"fill:#1f77b4;stroke:#1f77b4;\" x=\"227.446222\" xlink:href=\"#m100468a810\" y=\"141.043906\"/>\n     <use style=\"fill:#1f77b4;stroke:#1f77b4;\" x=\"278.388522\" xlink:href=\"#m100468a810\" y=\"153.387568\"/>\n     <use style=\"fill:#1f77b4;stroke:#1f77b4;\" x=\"155.636913\" xlink:href=\"#m100468a810\" y=\"117.623271\"/>\n     <use style=\"fill:#1f77b4;stroke:#1f77b4;\" x=\"85.247772\" xlink:href=\"#m100468a810\" y=\"130.203047\"/>\n     <use style=\"fill:#1f77b4;stroke:#1f77b4;\" x=\"276.266544\" xlink:href=\"#m100468a810\" y=\"126.021098\"/>\n     <use style=\"fill:#1f77b4;stroke:#1f77b4;\" x=\"205.968609\" xlink:href=\"#m100468a810\" y=\"196.089271\"/>\n     <use style=\"fill:#1f77b4;stroke:#1f77b4;\" x=\"106.152043\" xlink:href=\"#m100468a810\" y=\"37.869703\"/>\n     <use style=\"fill:#1f77b4;stroke:#1f77b4;\" x=\"156.603032\" xlink:href=\"#m100468a810\" y=\"115.912409\"/>\n     <use style=\"fill:#1f77b4;stroke:#1f77b4;\" x=\"205.587137\" xlink:href=\"#m100468a810\" y=\"175.091261\"/>\n     <use style=\"fill:#1f77b4;stroke:#1f77b4;\" x=\"180.531541\" xlink:href=\"#m100468a810\" y=\"214.296439\"/>\n     <use style=\"fill:#1f77b4;stroke:#1f77b4;\" x=\"144.613139\" xlink:href=\"#m100468a810\" y=\"47.752643\"/>\n     <use style=\"fill:#1f77b4;stroke:#1f77b4;\" x=\"220.076597\" xlink:href=\"#m100468a810\" y=\"100.284687\"/>\n     <use style=\"fill:#1f77b4;stroke:#1f77b4;\" x=\"216.501584\" xlink:href=\"#m100468a810\" y=\"194.850706\"/>\n     <use style=\"fill:#1f77b4;stroke:#1f77b4;\" x=\"300.319507\" xlink:href=\"#m100468a810\" y=\"129.751077\"/>\n     <use style=\"fill:#1f77b4;stroke:#1f77b4;\" x=\"234.948906\" xlink:href=\"#m100468a810\" y=\"63.478234\"/>\n     <use style=\"fill:#1f77b4;stroke:#1f77b4;\" x=\"200.508456\" xlink:href=\"#m100468a810\" y=\"154.454767\"/>\n     <use style=\"fill:#1f77b4;stroke:#1f77b4;\" x=\"250.601059\" xlink:href=\"#m100468a810\" y=\"181.470484\"/>\n    </g>\n   </g>\n   <g id=\"matplotlib.axis_1\">\n    <g id=\"xtick_1\">\n     <g id=\"line2d_1\">\n      <defs>\n       <path d=\"M 0 0 \nL 0 3.5 \n\" id=\"me5d5c6648a\" style=\"stroke:#000000;stroke-width:0.8;\"/>\n      </defs>\n      <g>\n       <use style=\"stroke:#000000;stroke-width:0.8;\" x=\"56.044193\" xlink:href=\"#me5d5c6648a\" y=\"228.14\"/>\n      </g>\n     </g>\n     <g id=\"text_1\">\n      <!-- −15 -->\n      <defs>\n       <path d=\"M 10.59375 35.5 \nL 73.1875 35.5 \nL 73.1875 27.203125 \nL 10.59375 27.203125 \nz\n\" id=\"DejaVuSans-8722\"/>\n       <path d=\"M 12.40625 8.296875 \nL 28.515625 8.296875 \nL 28.515625 63.921875 \nL 10.984375 60.40625 \nL 10.984375 69.390625 \nL 28.421875 72.90625 \nL 38.28125 72.90625 \nL 38.28125 8.296875 \nL 54.390625 8.296875 \nL 54.390625 0 \nL 12.40625 0 \nz\n\" id=\"DejaVuSans-49\"/>\n       <path d=\"M 10.796875 72.90625 \nL 49.515625 72.90625 \nL 49.515625 64.59375 \nL 19.828125 64.59375 \nL 19.828125 46.734375 \nQ 21.96875 47.46875 24.109375 47.828125 \nQ 26.265625 48.1875 28.421875 48.1875 \nQ 40.625 48.1875 47.75 41.5 \nQ 54.890625 34.8125 54.890625 23.390625 \nQ 54.890625 11.625 47.5625 5.09375 \nQ 40.234375 -1.421875 26.90625 -1.421875 \nQ 22.3125 -1.421875 17.546875 -0.640625 \nQ 12.796875 0.140625 7.71875 1.703125 \nL 7.71875 11.625 \nQ 12.109375 9.234375 16.796875 8.0625 \nQ 21.484375 6.890625 26.703125 6.890625 \nQ 35.15625 6.890625 40.078125 11.328125 \nQ 45.015625 15.765625 45.015625 23.390625 \nQ 45.015625 31 40.078125 35.4375 \nQ 35.15625 39.890625 26.703125 39.890625 \nQ 22.75 39.890625 18.8125 39.015625 \nQ 14.890625 38.140625 10.796875 36.28125 \nz\n\" id=\"DejaVuSans-53\"/>\n      </defs>\n      <g transform=\"translate(45.491849 242.738437)scale(0.1 -0.1)\">\n       <use xlink:href=\"#DejaVuSans-8722\"/>\n       <use x=\"83.789062\" xlink:href=\"#DejaVuSans-49\"/>\n       <use x=\"147.412109\" xlink:href=\"#DejaVuSans-53\"/>\n      </g>\n     </g>\n    </g>\n    <g id=\"xtick_2\">\n     <g id=\"line2d_2\">\n      <g>\n       <use style=\"stroke:#000000;stroke-width:0.8;\" x=\"110.019072\" xlink:href=\"#me5d5c6648a\" y=\"228.14\"/>\n      </g>\n     </g>\n     <g id=\"text_2\">\n      <!-- −10 -->\n      <defs>\n       <path d=\"M 31.78125 66.40625 \nQ 24.171875 66.40625 20.328125 58.90625 \nQ 16.5 51.421875 16.5 36.375 \nQ 16.5 21.390625 20.328125 13.890625 \nQ 24.171875 6.390625 31.78125 6.390625 \nQ 39.453125 6.390625 43.28125 13.890625 \nQ 47.125 21.390625 47.125 36.375 \nQ 47.125 51.421875 43.28125 58.90625 \nQ 39.453125 66.40625 31.78125 66.40625 \nz\nM 31.78125 74.21875 \nQ 44.046875 74.21875 50.515625 64.515625 \nQ 56.984375 54.828125 56.984375 36.375 \nQ 56.984375 17.96875 50.515625 8.265625 \nQ 44.046875 -1.421875 31.78125 -1.421875 \nQ 19.53125 -1.421875 13.0625 8.265625 \nQ 6.59375 17.96875 6.59375 36.375 \nQ 6.59375 54.828125 13.0625 64.515625 \nQ 19.53125 74.21875 31.78125 74.21875 \nz\n\" id=\"DejaVuSans-48\"/>\n      </defs>\n      <g transform=\"translate(99.466728 242.738437)scale(0.1 -0.1)\">\n       <use xlink:href=\"#DejaVuSans-8722\"/>\n       <use x=\"83.789062\" xlink:href=\"#DejaVuSans-49\"/>\n       <use x=\"147.412109\" xlink:href=\"#DejaVuSans-48\"/>\n      </g>\n     </g>\n    </g>\n    <g id=\"xtick_3\">\n     <g id=\"line2d_3\">\n      <g>\n       <use style=\"stroke:#000000;stroke-width:0.8;\" x=\"163.993951\" xlink:href=\"#me5d5c6648a\" y=\"228.14\"/>\n      </g>\n     </g>\n     <g id=\"text_3\">\n      <!-- −5 -->\n      <g transform=\"translate(156.622857 242.738437)scale(0.1 -0.1)\">\n       <use xlink:href=\"#DejaVuSans-8722\"/>\n       <use x=\"83.789062\" xlink:href=\"#DejaVuSans-53\"/>\n      </g>\n     </g>\n    </g>\n    <g id=\"xtick_4\">\n     <g id=\"line2d_4\">\n      <g>\n       <use style=\"stroke:#000000;stroke-width:0.8;\" x=\"217.96883\" xlink:href=\"#me5d5c6648a\" y=\"228.14\"/>\n      </g>\n     </g>\n     <g id=\"text_4\">\n      <!-- 0 -->\n      <g transform=\"translate(214.78758 242.738437)scale(0.1 -0.1)\">\n       <use xlink:href=\"#DejaVuSans-48\"/>\n      </g>\n     </g>\n    </g>\n    <g id=\"xtick_5\">\n     <g id=\"line2d_5\">\n      <g>\n       <use style=\"stroke:#000000;stroke-width:0.8;\" x=\"271.943709\" xlink:href=\"#me5d5c6648a\" y=\"228.14\"/>\n      </g>\n     </g>\n     <g id=\"text_5\">\n      <!-- 5 -->\n      <g transform=\"translate(268.762459 242.738437)scale(0.1 -0.1)\">\n       <use xlink:href=\"#DejaVuSans-53\"/>\n      </g>\n     </g>\n    </g>\n    <g id=\"xtick_6\">\n     <g id=\"line2d_6\">\n      <g>\n       <use style=\"stroke:#000000;stroke-width:0.8;\" x=\"325.918588\" xlink:href=\"#me5d5c6648a\" y=\"228.14\"/>\n      </g>\n     </g>\n     <g id=\"text_6\">\n      <!-- 10 -->\n      <g transform=\"translate(319.556088 242.738437)scale(0.1 -0.1)\">\n       <use xlink:href=\"#DejaVuSans-49\"/>\n       <use x=\"63.623047\" xlink:href=\"#DejaVuSans-48\"/>\n      </g>\n     </g>\n    </g>\n   </g>\n   <g id=\"matplotlib.axis_2\">\n    <g id=\"ytick_1\">\n     <g id=\"line2d_7\">\n      <defs>\n       <path d=\"M 0 0 \nL -3.5 0 \n\" id=\"m1ac23bed40\" style=\"stroke:#000000;stroke-width:0.8;\"/>\n      </defs>\n      <g>\n       <use style=\"stroke:#000000;stroke-width:0.8;\" x=\"35.304688\" xlink:href=\"#m1ac23bed40\" y=\"228.021938\"/>\n      </g>\n     </g>\n     <g id=\"text_7\">\n      <!-- −15 -->\n      <g transform=\"translate(7.2 231.821157)scale(0.1 -0.1)\">\n       <use xlink:href=\"#DejaVuSans-8722\"/>\n       <use x=\"83.789062\" xlink:href=\"#DejaVuSans-49\"/>\n       <use x=\"147.412109\" xlink:href=\"#DejaVuSans-53\"/>\n      </g>\n     </g>\n    </g>\n    <g id=\"ytick_2\">\n     <g id=\"line2d_8\">\n      <g>\n       <use style=\"stroke:#000000;stroke-width:0.8;\" x=\"35.304688\" xlink:href=\"#m1ac23bed40\" y=\"193.621072\"/>\n      </g>\n     </g>\n     <g id=\"text_8\">\n      <!-- −10 -->\n      <g transform=\"translate(7.2 197.420291)scale(0.1 -0.1)\">\n       <use xlink:href=\"#DejaVuSans-8722\"/>\n       <use x=\"83.789062\" xlink:href=\"#DejaVuSans-49\"/>\n       <use x=\"147.412109\" xlink:href=\"#DejaVuSans-48\"/>\n      </g>\n     </g>\n    </g>\n    <g id=\"ytick_3\">\n     <g id=\"line2d_9\">\n      <g>\n       <use style=\"stroke:#000000;stroke-width:0.8;\" x=\"35.304688\" xlink:href=\"#m1ac23bed40\" y=\"159.220206\"/>\n      </g>\n     </g>\n     <g id=\"text_9\">\n      <!-- −5 -->\n      <g transform=\"translate(13.5625 163.019425)scale(0.1 -0.1)\">\n       <use xlink:href=\"#DejaVuSans-8722\"/>\n       <use x=\"83.789062\" xlink:href=\"#DejaVuSans-53\"/>\n      </g>\n     </g>\n    </g>\n    <g id=\"ytick_4\">\n     <g id=\"line2d_10\">\n      <g>\n       <use style=\"stroke:#000000;stroke-width:0.8;\" x=\"35.304688\" xlink:href=\"#m1ac23bed40\" y=\"124.81934\"/>\n      </g>\n     </g>\n     <g id=\"text_10\">\n      <!-- 0 -->\n      <g transform=\"translate(21.942188 128.618559)scale(0.1 -0.1)\">\n       <use xlink:href=\"#DejaVuSans-48\"/>\n      </g>\n     </g>\n    </g>\n    <g id=\"ytick_5\">\n     <g id=\"line2d_11\">\n      <g>\n       <use style=\"stroke:#000000;stroke-width:0.8;\" x=\"35.304688\" xlink:href=\"#m1ac23bed40\" y=\"90.418475\"/>\n      </g>\n     </g>\n     <g id=\"text_11\">\n      <!-- 5 -->\n      <g transform=\"translate(21.942188 94.217693)scale(0.1 -0.1)\">\n       <use xlink:href=\"#DejaVuSans-53\"/>\n      </g>\n     </g>\n    </g>\n    <g id=\"ytick_6\">\n     <g id=\"line2d_12\">\n      <g>\n       <use style=\"stroke:#000000;stroke-width:0.8;\" x=\"35.304688\" xlink:href=\"#m1ac23bed40\" y=\"56.017609\"/>\n      </g>\n     </g>\n     <g id=\"text_12\">\n      <!-- 10 -->\n      <g transform=\"translate(15.579688 59.816828)scale(0.1 -0.1)\">\n       <use xlink:href=\"#DejaVuSans-49\"/>\n       <use x=\"63.623047\" xlink:href=\"#DejaVuSans-48\"/>\n      </g>\n     </g>\n    </g>\n    <g id=\"ytick_7\">\n     <g id=\"line2d_13\">\n      <g>\n       <use style=\"stroke:#000000;stroke-width:0.8;\" x=\"35.304688\" xlink:href=\"#m1ac23bed40\" y=\"21.616743\"/>\n      </g>\n     </g>\n     <g id=\"text_13\">\n      <!-- 15 -->\n      <g transform=\"translate(15.579688 25.415962)scale(0.1 -0.1)\">\n       <use xlink:href=\"#DejaVuSans-49\"/>\n       <use x=\"63.623047\" xlink:href=\"#DejaVuSans-53\"/>\n      </g>\n     </g>\n    </g>\n   </g>\n   <g id=\"patch_3\">\n    <path d=\"M 35.304688 228.14 \nL 35.304688 10.7 \n\" style=\"fill:none;stroke:#000000;stroke-linecap:square;stroke-linejoin:miter;stroke-width:0.8;\"/>\n   </g>\n   <g id=\"patch_4\">\n    <path d=\"M 370.104688 228.14 \nL 370.104688 10.7 \n\" style=\"fill:none;stroke:#000000;stroke-linecap:square;stroke-linejoin:miter;stroke-width:0.8;\"/>\n   </g>\n   <g id=\"patch_5\">\n    <path d=\"M 35.304688 228.14 \nL 370.104688 228.14 \n\" style=\"fill:none;stroke:#000000;stroke-linecap:square;stroke-linejoin:miter;stroke-width:0.8;\"/>\n   </g>\n   <g id=\"patch_6\">\n    <path d=\"M 35.304688 10.7 \nL 370.104688 10.7 \n\" style=\"fill:none;stroke:#000000;stroke-linecap:square;stroke-linejoin:miter;stroke-width:0.8;\"/>\n   </g>\n  </g>\n </g>\n <defs>\n  <clipPath id=\"p1fa1335cc6\">\n   <rect height=\"217.44\" width=\"334.8\" x=\"35.304688\" y=\"10.7\"/>\n  </clipPath>\n </defs>\n</svg>\n",
      "text/plain": [
       "<Figure size 432x288 with 1 Axes>"
      ]
     },
     "metadata": {
      "needs_background": "light"
     },
     "output_type": "display_data"
    }
   ],
   "source": [
    "plt.scatter(feats_X_embedded[:, 0], feats_X_embedded[:, 1])"
   ]
  },
  {
   "cell_type": "code",
   "execution_count": 73,
   "metadata": {},
   "outputs": [],
   "source": [
    "# plt.scatter(feats_X_embedded[:, 0], feats_X_embedded[:, 1])"
   ]
  },
  {
   "cell_type": "code",
   "execution_count": null,
   "metadata": {},
   "outputs": [],
   "source": []
  }
 ],
 "metadata": {
  "interpreter": {
   "hash": "797c8bf8a3cbb751cd32baada2020e89b624c5d53fc2ae3080742f88aaee1adc"
  },
  "kernelspec": {
   "display_name": "Python 3.6.12 64-bit ('dl-py3': virtualenv)",
   "language": "python",
   "name": "python3"
  },
  "language_info": {
   "codemirror_mode": {
    "name": "ipython",
    "version": 3
   },
   "file_extension": ".py",
   "mimetype": "text/x-python",
   "name": "python",
   "nbconvert_exporter": "python",
   "pygments_lexer": "ipython3",
   "version": "3.6.13"
  },
  "orig_nbformat": 4
 },
 "nbformat": 4,
 "nbformat_minor": 2
}

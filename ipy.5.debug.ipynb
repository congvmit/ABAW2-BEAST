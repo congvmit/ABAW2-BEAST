{
 "cells": [
  {
   "cell_type": "code",
   "execution_count": 1,
   "metadata": {},
   "outputs": [],
   "source": [
    "import torch\n",
    "from torch.nn import CrossEntropyLoss\n",
    "\n",
    "xx = torch.tensor([[ 9.4961e-03,  1.3590e-02, -3.5765e-02,  9.1043e-02,  2.8951e-02,\n",
    "         -1.1329e-02,  5.6197e-04],\n",
    "        [ 9.5037e-03,  1.4318e-02, -3.5953e-02,  9.0192e-02,  2.9236e-02,\n",
    "         -1.1684e-02,  1.1131e-03],\n",
    "        [ 9.7393e-03,  1.3215e-02, -3.6881e-02,  9.1673e-02,  3.0201e-02,\n",
    "         -1.0445e-02,  4.2971e-05],\n",
    "        [ 8.6625e-03,  1.4868e-02, -3.4960e-02,  8.8558e-02,  2.9749e-02,\n",
    "         -1.2347e-02,  1.1423e-03],\n",
    "        [ 9.2598e-03,  1.4559e-02, -3.4825e-02,  9.0644e-02,  2.8369e-02,\n",
    "         -1.1752e-02,  1.5743e-03],\n",
    "        [ 8.5701e-03,  1.5528e-02, -3.5585e-02,  8.9723e-02,  2.9700e-02,\n",
    "         -1.1849e-02,  5.5193e-04],\n",
    "        [ 9.5770e-03,  1.3630e-02, -3.5220e-02,  9.1012e-02,  2.8961e-02,\n",
    "         -1.0786e-02,  1.6712e-03],\n",
    "        [ 9.3042e-03,  1.4518e-02, -3.4803e-02,  9.0517e-02,  2.9173e-02,\n",
    "         -1.1344e-02,  1.6696e-03],\n",
    "        [ 9.0009e-03,  1.3874e-02, -3.5431e-02,  9.0714e-02,  2.9020e-02,\n",
    "         -1.1199e-02,  1.9625e-03],\n",
    "        [ 9.5318e-03,  1.3128e-02, -3.4156e-02,  8.9773e-02,  2.9213e-02,\n",
    "         -1.1960e-02,  2.4163e-03],\n",
    "        [ 9.3031e-03,  1.4333e-02, -3.4388e-02,  9.0966e-02,  2.9421e-02,\n",
    "         -1.0797e-02,  1.6170e-03],\n",
    "        [ 9.3505e-03,  1.3888e-02, -3.4175e-02,  9.0535e-02,  2.9256e-02,\n",
    "         -1.1352e-02,  1.3830e-03],\n",
    "        [ 9.2469e-03,  1.4407e-02, -3.4647e-02,  9.0265e-02,  2.9685e-02,\n",
    "         -1.1724e-02,  1.0411e-03],\n",
    "        [ 9.3621e-03,  1.5446e-02, -3.4586e-02,  8.8307e-02,  3.0247e-02,\n",
    "         -1.1874e-02,  1.6716e-03],\n",
    "        [ 9.9871e-03,  1.6279e-02, -3.4140e-02,  8.5564e-02,  3.0779e-02,\n",
    "         -1.2508e-02,  2.0753e-03],\n",
    "        [ 9.3420e-03,  1.5581e-02, -3.4712e-02,  8.7365e-02,  3.0404e-02,\n",
    "         -1.2270e-02,  1.6513e-03],\n",
    "        [ 9.3556e-03,  1.5980e-02, -3.4592e-02,  8.8764e-02,  3.0330e-02,\n",
    "         -1.1867e-02,  1.3624e-03],\n",
    "        [ 9.4243e-03,  1.6029e-02, -3.5364e-02,  8.7703e-02,  3.0658e-02,\n",
    "         -1.3128e-02,  1.1626e-03],\n",
    "        [ 9.7933e-03,  1.5564e-02, -3.5830e-02,  8.8023e-02,  3.0163e-02,\n",
    "         -1.3079e-02,  1.5650e-03],\n",
    "        [ 9.4947e-03,  1.5691e-02, -3.5437e-02,  8.7585e-02,  3.0925e-02,\n",
    "         -1.2707e-02,  1.1567e-03],\n",
    "        [ 9.5632e-03,  1.4198e-02, -3.4809e-02,  8.8007e-02,  2.8976e-02,\n",
    "         -1.2254e-02,  1.2629e-03],\n",
    "        [ 9.3784e-03,  1.5784e-02, -3.5003e-02,  8.7179e-02,  2.9983e-02,\n",
    "         -1.2998e-02,  1.1849e-03],\n",
    "        [ 9.3321e-03,  1.6920e-02, -3.5327e-02,  8.5618e-02,  3.1179e-02,\n",
    "         -1.3613e-02,  1.8866e-03],\n",
    "        [ 9.6313e-03,  1.6870e-02, -3.5365e-02,  8.5284e-02,  3.1168e-02,\n",
    "         -1.3642e-02,  2.0161e-03],\n",
    "        [ 9.3674e-03,  1.5363e-02, -3.4728e-02,  8.7647e-02,  3.0149e-02,\n",
    "         -1.2236e-02,  1.9180e-03],\n",
    "        [ 1.0644e-02,  1.5013e-02, -3.5102e-02,  8.8474e-02,  3.0725e-02,\n",
    "         -1.1549e-02,  1.5063e-03],\n",
    "        [ 9.1961e-03,  1.4117e-02, -3.4685e-02,  8.9652e-02,  2.8297e-02,\n",
    "         -1.2095e-02,  6.8398e-04],\n",
    "        [ 9.2783e-03,  1.4452e-02, -3.4708e-02,  8.8755e-02,  2.9124e-02,\n",
    "         -1.2334e-02,  1.3558e-03],\n",
    "        [ 9.2004e-03,  1.5621e-02, -3.6222e-02,  8.6068e-02,  3.0308e-02,\n",
    "         -1.3661e-02,  5.4029e-04],\n",
    "        [ 8.7097e-03,  1.5456e-02, -3.5534e-02,  8.7453e-02,  2.9978e-02,\n",
    "         -1.3134e-02,  5.3109e-04],\n",
    "        [ 8.8634e-03,  1.5063e-02, -3.5189e-02,  8.7613e-02,  2.9513e-02,\n",
    "         -1.2958e-02,  9.2291e-04],\n",
    "        [ 8.9565e-03,  1.5039e-02, -3.5417e-02,  8.6887e-02,  2.9397e-02,\n",
    "         -1.3084e-02,  1.1184e-03]])"
   ]
  },
  {
   "cell_type": "code",
   "execution_count": 2,
   "metadata": {},
   "outputs": [],
   "source": [
    "yy = torch.tensor([7, 7, 7, 0, 0, 0, 0, 0, 0, 0, 0, 0, 0, 0, 0, 0, 0, 0, 0, 0, 0, 0, 0, 0,\n",
    "        0, 0, 0, 0, 0, 0, 0, 0])"
   ]
  },
  {
   "cell_type": "code",
   "execution_count": 3,
   "metadata": {},
   "outputs": [],
   "source": [
    "loss_func = CrossEntropyLoss(reduction='none')"
   ]
  },
  {
   "cell_type": "code",
   "execution_count": 4,
   "metadata": {},
   "outputs": [
    {
     "ename": "IndexError",
     "evalue": "Target 7 is out of bounds.",
     "output_type": "error",
     "traceback": [
      "\u001b[0;31m---------------------------------------------------------------------------\u001b[0m",
      "\u001b[0;31mIndexError\u001b[0m                                Traceback (most recent call last)",
      "\u001b[0;32m<ipython-input-4-e2f43025c270>\u001b[0m in \u001b[0;36m<module>\u001b[0;34m\u001b[0m\n\u001b[0;32m----> 1\u001b[0;31m \u001b[0mloss_func\u001b[0m\u001b[0;34m(\u001b[0m\u001b[0mxx\u001b[0m\u001b[0;34m,\u001b[0m \u001b[0myy\u001b[0m\u001b[0;34m)\u001b[0m\u001b[0;34m\u001b[0m\u001b[0;34m\u001b[0m\u001b[0m\n\u001b[0m",
      "\u001b[0;32m~/.virtualenvs/dl-py3/lib/python3.6/site-packages/torch/nn/modules/module.py\u001b[0m in \u001b[0;36m_call_impl\u001b[0;34m(self, *input, **kwargs)\u001b[0m\n\u001b[1;32m    887\u001b[0m             \u001b[0mresult\u001b[0m \u001b[0;34m=\u001b[0m \u001b[0mself\u001b[0m\u001b[0;34m.\u001b[0m\u001b[0m_slow_forward\u001b[0m\u001b[0;34m(\u001b[0m\u001b[0;34m*\u001b[0m\u001b[0minput\u001b[0m\u001b[0;34m,\u001b[0m \u001b[0;34m**\u001b[0m\u001b[0mkwargs\u001b[0m\u001b[0;34m)\u001b[0m\u001b[0;34m\u001b[0m\u001b[0;34m\u001b[0m\u001b[0m\n\u001b[1;32m    888\u001b[0m         \u001b[0;32melse\u001b[0m\u001b[0;34m:\u001b[0m\u001b[0;34m\u001b[0m\u001b[0;34m\u001b[0m\u001b[0m\n\u001b[0;32m--> 889\u001b[0;31m             \u001b[0mresult\u001b[0m \u001b[0;34m=\u001b[0m \u001b[0mself\u001b[0m\u001b[0;34m.\u001b[0m\u001b[0mforward\u001b[0m\u001b[0;34m(\u001b[0m\u001b[0;34m*\u001b[0m\u001b[0minput\u001b[0m\u001b[0;34m,\u001b[0m \u001b[0;34m**\u001b[0m\u001b[0mkwargs\u001b[0m\u001b[0;34m)\u001b[0m\u001b[0;34m\u001b[0m\u001b[0;34m\u001b[0m\u001b[0m\n\u001b[0m\u001b[1;32m    890\u001b[0m         for hook in itertools.chain(\n\u001b[1;32m    891\u001b[0m                 \u001b[0m_global_forward_hooks\u001b[0m\u001b[0;34m.\u001b[0m\u001b[0mvalues\u001b[0m\u001b[0;34m(\u001b[0m\u001b[0;34m)\u001b[0m\u001b[0;34m,\u001b[0m\u001b[0;34m\u001b[0m\u001b[0;34m\u001b[0m\u001b[0m\n",
      "\u001b[0;32m~/.virtualenvs/dl-py3/lib/python3.6/site-packages/torch/nn/modules/loss.py\u001b[0m in \u001b[0;36mforward\u001b[0;34m(self, input, target)\u001b[0m\n\u001b[1;32m   1046\u001b[0m         \u001b[0;32massert\u001b[0m \u001b[0mself\u001b[0m\u001b[0;34m.\u001b[0m\u001b[0mweight\u001b[0m \u001b[0;32mis\u001b[0m \u001b[0;32mNone\u001b[0m \u001b[0;32mor\u001b[0m \u001b[0misinstance\u001b[0m\u001b[0;34m(\u001b[0m\u001b[0mself\u001b[0m\u001b[0;34m.\u001b[0m\u001b[0mweight\u001b[0m\u001b[0;34m,\u001b[0m \u001b[0mTensor\u001b[0m\u001b[0;34m)\u001b[0m\u001b[0;34m\u001b[0m\u001b[0;34m\u001b[0m\u001b[0m\n\u001b[1;32m   1047\u001b[0m         return F.cross_entropy(input, target, weight=self.weight,\n\u001b[0;32m-> 1048\u001b[0;31m                                ignore_index=self.ignore_index, reduction=self.reduction)\n\u001b[0m\u001b[1;32m   1049\u001b[0m \u001b[0;34m\u001b[0m\u001b[0m\n\u001b[1;32m   1050\u001b[0m \u001b[0;34m\u001b[0m\u001b[0m\n",
      "\u001b[0;32m~/.virtualenvs/dl-py3/lib/python3.6/site-packages/torch/nn/functional.py\u001b[0m in \u001b[0;36mcross_entropy\u001b[0;34m(input, target, weight, size_average, ignore_index, reduce, reduction)\u001b[0m\n\u001b[1;32m   2688\u001b[0m     \u001b[0;32mif\u001b[0m \u001b[0msize_average\u001b[0m \u001b[0;32mis\u001b[0m \u001b[0;32mnot\u001b[0m \u001b[0;32mNone\u001b[0m \u001b[0;32mor\u001b[0m \u001b[0mreduce\u001b[0m \u001b[0;32mis\u001b[0m \u001b[0;32mnot\u001b[0m \u001b[0;32mNone\u001b[0m\u001b[0;34m:\u001b[0m\u001b[0;34m\u001b[0m\u001b[0;34m\u001b[0m\u001b[0m\n\u001b[1;32m   2689\u001b[0m         \u001b[0mreduction\u001b[0m \u001b[0;34m=\u001b[0m \u001b[0m_Reduction\u001b[0m\u001b[0;34m.\u001b[0m\u001b[0mlegacy_get_string\u001b[0m\u001b[0;34m(\u001b[0m\u001b[0msize_average\u001b[0m\u001b[0;34m,\u001b[0m \u001b[0mreduce\u001b[0m\u001b[0;34m)\u001b[0m\u001b[0;34m\u001b[0m\u001b[0;34m\u001b[0m\u001b[0m\n\u001b[0;32m-> 2690\u001b[0;31m     \u001b[0;32mreturn\u001b[0m \u001b[0mnll_loss\u001b[0m\u001b[0;34m(\u001b[0m\u001b[0mlog_softmax\u001b[0m\u001b[0;34m(\u001b[0m\u001b[0minput\u001b[0m\u001b[0;34m,\u001b[0m \u001b[0;36m1\u001b[0m\u001b[0;34m)\u001b[0m\u001b[0;34m,\u001b[0m \u001b[0mtarget\u001b[0m\u001b[0;34m,\u001b[0m \u001b[0mweight\u001b[0m\u001b[0;34m,\u001b[0m \u001b[0;32mNone\u001b[0m\u001b[0;34m,\u001b[0m \u001b[0mignore_index\u001b[0m\u001b[0;34m,\u001b[0m \u001b[0;32mNone\u001b[0m\u001b[0;34m,\u001b[0m \u001b[0mreduction\u001b[0m\u001b[0;34m)\u001b[0m\u001b[0;34m\u001b[0m\u001b[0;34m\u001b[0m\u001b[0m\n\u001b[0m\u001b[1;32m   2691\u001b[0m \u001b[0;34m\u001b[0m\u001b[0m\n\u001b[1;32m   2692\u001b[0m \u001b[0;34m\u001b[0m\u001b[0m\n",
      "\u001b[0;32m~/.virtualenvs/dl-py3/lib/python3.6/site-packages/torch/nn/functional.py\u001b[0m in \u001b[0;36mnll_loss\u001b[0;34m(input, target, weight, size_average, ignore_index, reduce, reduction)\u001b[0m\n\u001b[1;32m   2383\u001b[0m         )\n\u001b[1;32m   2384\u001b[0m     \u001b[0;32mif\u001b[0m \u001b[0mdim\u001b[0m \u001b[0;34m==\u001b[0m \u001b[0;36m2\u001b[0m\u001b[0;34m:\u001b[0m\u001b[0;34m\u001b[0m\u001b[0;34m\u001b[0m\u001b[0m\n\u001b[0;32m-> 2385\u001b[0;31m         \u001b[0mret\u001b[0m \u001b[0;34m=\u001b[0m \u001b[0mtorch\u001b[0m\u001b[0;34m.\u001b[0m\u001b[0m_C\u001b[0m\u001b[0;34m.\u001b[0m\u001b[0m_nn\u001b[0m\u001b[0;34m.\u001b[0m\u001b[0mnll_loss\u001b[0m\u001b[0;34m(\u001b[0m\u001b[0minput\u001b[0m\u001b[0;34m,\u001b[0m \u001b[0mtarget\u001b[0m\u001b[0;34m,\u001b[0m \u001b[0mweight\u001b[0m\u001b[0;34m,\u001b[0m \u001b[0m_Reduction\u001b[0m\u001b[0;34m.\u001b[0m\u001b[0mget_enum\u001b[0m\u001b[0;34m(\u001b[0m\u001b[0mreduction\u001b[0m\u001b[0;34m)\u001b[0m\u001b[0;34m,\u001b[0m \u001b[0mignore_index\u001b[0m\u001b[0;34m)\u001b[0m\u001b[0;34m\u001b[0m\u001b[0;34m\u001b[0m\u001b[0m\n\u001b[0m\u001b[1;32m   2386\u001b[0m     \u001b[0;32melif\u001b[0m \u001b[0mdim\u001b[0m \u001b[0;34m==\u001b[0m \u001b[0;36m4\u001b[0m\u001b[0;34m:\u001b[0m\u001b[0;34m\u001b[0m\u001b[0;34m\u001b[0m\u001b[0m\n\u001b[1;32m   2387\u001b[0m         \u001b[0mret\u001b[0m \u001b[0;34m=\u001b[0m \u001b[0mtorch\u001b[0m\u001b[0;34m.\u001b[0m\u001b[0m_C\u001b[0m\u001b[0;34m.\u001b[0m\u001b[0m_nn\u001b[0m\u001b[0;34m.\u001b[0m\u001b[0mnll_loss2d\u001b[0m\u001b[0;34m(\u001b[0m\u001b[0minput\u001b[0m\u001b[0;34m,\u001b[0m \u001b[0mtarget\u001b[0m\u001b[0;34m,\u001b[0m \u001b[0mweight\u001b[0m\u001b[0;34m,\u001b[0m \u001b[0m_Reduction\u001b[0m\u001b[0;34m.\u001b[0m\u001b[0mget_enum\u001b[0m\u001b[0;34m(\u001b[0m\u001b[0mreduction\u001b[0m\u001b[0;34m)\u001b[0m\u001b[0;34m,\u001b[0m \u001b[0mignore_index\u001b[0m\u001b[0;34m)\u001b[0m\u001b[0;34m\u001b[0m\u001b[0;34m\u001b[0m\u001b[0m\n",
      "\u001b[0;31mIndexError\u001b[0m: Target 7 is out of bounds."
     ]
    }
   ],
   "source": [
    "loss_func(xx, yy)"
   ]
  },
  {
   "cell_type": "code",
   "execution_count": 5,
   "metadata": {},
   "outputs": [
    {
     "data": {
      "text/plain": [
       "torch.Size([32, 7])"
      ]
     },
     "execution_count": 5,
     "metadata": {},
     "output_type": "execute_result"
    }
   ],
   "source": [
    "xx.shape"
   ]
  },
  {
   "cell_type": "code",
   "execution_count": null,
   "metadata": {},
   "outputs": [],
   "source": []
  }
 ],
 "metadata": {
  "interpreter": {
   "hash": "797c8bf8a3cbb751cd32baada2020e89b624c5d53fc2ae3080742f88aaee1adc"
  },
  "kernelspec": {
   "display_name": "Python 3.6.13 ('dl-py3')",
   "language": "python",
   "name": "python3"
  },
  "language_info": {
   "codemirror_mode": {
    "name": "ipython",
    "version": 3
   },
   "file_extension": ".py",
   "mimetype": "text/x-python",
   "name": "python",
   "nbconvert_exporter": "python",
   "pygments_lexer": "ipython3",
   "version": "3.6.13"
  },
  "orig_nbformat": 4
 },
 "nbformat": 4,
 "nbformat_minor": 2
}

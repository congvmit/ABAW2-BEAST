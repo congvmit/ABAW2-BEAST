{
 "cells": [
  {
   "cell_type": "code",
   "execution_count": 4,
   "metadata": {},
   "outputs": [
    {
     "name": "stdout",
     "output_type": "stream",
     "text": [
      "model: alternet_18 , params: 9.5M, output 0: [3, 7], output 1: [3, 1], output 2: [3, 1], output 3: [3, 12]\n"
     ]
    }
   ],
   "source": [
    "import models\n",
    "from models.classifier_block import MTLBlock\n",
    "\n",
    "name = 'alternet_18'\n",
    "cblock = MTLBlock\n",
    "model = models.get_model(name, stem=True, cblock=cblock)#, **vit_kwargs)"
   ]
  },
  {
   "cell_type": "code",
   "execution_count": null,
   "metadata": {},
   "outputs": [],
   "source": []
  }
 ],
 "metadata": {
  "interpreter": {
   "hash": "797c8bf8a3cbb751cd32baada2020e89b624c5d53fc2ae3080742f88aaee1adc"
  },
  "kernelspec": {
   "display_name": "Python 3.6.13 ('dl-py3')",
   "language": "python",
   "name": "python3"
  },
  "language_info": {
   "codemirror_mode": {
    "name": "ipython",
    "version": 3
   },
   "file_extension": ".py",
   "mimetype": "text/x-python",
   "name": "python",
   "nbconvert_exporter": "python",
   "pygments_lexer": "ipython3",
   "version": "3.6.13"
  },
  "orig_nbformat": 4
 },
 "nbformat": 4,
 "nbformat_minor": 2
}
